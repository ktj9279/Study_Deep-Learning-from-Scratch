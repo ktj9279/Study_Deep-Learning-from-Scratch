{
 "cells": [
  {
   "cell_type": "markdown",
   "metadata": {},
   "source": [
    "# Deep Learning from Scratch\n",
    "# Ch.03 Neural Network"
   ]
  },
  {
   "cell_type": "code",
   "execution_count": null,
   "metadata": {
    "collapsed": true
   },
   "outputs": [],
   "source": [
    "import numpy as np"
   ]
  },
  {
   "cell_type": "markdown",
   "metadata": {},
   "source": [
    "# 3.5 Output Layer"
   ]
  },
  {
   "cell_type": "markdown",
   "metadata": {},
   "source": [
    "# 3.5.1-3.5.3 Softmax Function"
   ]
  },
  {
   "cell_type": "code",
   "execution_count": null,
   "metadata": {},
   "outputs": [],
   "source": [
    "# Softmax Function\n",
    "\n",
    "'''\n",
    "# Overflow\n",
    "def softmax(a):\n",
    "    exp_a = np.exp(a)\n",
    "    sum_exp_a = np.sum(exp_a)\n",
    "    y = exp_a / sum_exp_a\n",
    "    \n",
    "    return y\n",
    "    \n",
    "a = np.array([1010, 1000, 990])\n",
    "print(\"softmax(a) : \", softmax(a))\n",
    "\n",
    "# Solve overflow\n",
    "c = np.max(a)\n",
    "print(\"c : \", c)\n",
    "print(\"a - c : \", a - c)\n",
    "print(\"softmax(a - c) : \", softmax(a - c))\n",
    "'''\n",
    "\n",
    "'''\n",
    "softmax(a) :  [ nan  nan  nan]\n",
    "c :  1010\n",
    "a - c :  [  0 -10 -20]\n",
    "softmax(a - c) :  [  9.99954600e-01   4.53978686e-05   2.06106005e-09]\n",
    "'''\n",
    "\n",
    "def softmax(a):\n",
    "    c = np.max(a)\n",
    "    exp_a = np.exp(a - c)\n",
    "    sum_exp_a = np.sum(exp_a)\n",
    "    y = exp_a / sum_exp_a\n",
    "    \n",
    "    return y\n",
    "\n",
    "a = np.array([1010, 1000, 990])\n",
    "print(\"softmax(a) : \", softmax(a))"
   ]
  },
  {
   "cell_type": "code",
   "execution_count": null,
   "metadata": {},
   "outputs": [],
   "source": [
    "# Softmax Function의 특징\n",
    "a = np.array([0.3, 2.9, 4.0])\n",
    "y = softmax(a)\n",
    "print(\"a : \", a)\n",
    "print(\"y = softmax(a) : \", y)    # 소프트맥스의 출력은 0에서 1.0 사이의 실수\n",
    "print(\"np.sum(y)\", np.sum(y))    # 소프트맥스 함수 출력의 총합은 1"
   ]
  }
 ],
 "metadata": {
  "kernelspec": {
   "display_name": "Python 3",
   "language": "python",
   "name": "python3"
  },
  "language_info": {
   "codemirror_mode": {
    "name": "ipython",
    "version": 3
   },
   "file_extension": ".py",
   "mimetype": "text/x-python",
   "name": "python",
   "nbconvert_exporter": "python",
   "pygments_lexer": "ipython3",
   "version": "3.6.1"
  }
 },
 "nbformat": 4,
 "nbformat_minor": 2
}
