{
 "cells": [
  {
   "cell_type": "markdown",
   "metadata": {},
   "source": [
    "# Deep Learning from Scratch\n",
    "# Ch.03 Neural Network"
   ]
  },
  {
   "cell_type": "code",
   "execution_count": null,
   "metadata": {
    "collapsed": true
   },
   "outputs": [],
   "source": [
    "import numpy as np"
   ]
  },
  {
   "cell_type": "markdown",
   "metadata": {},
   "source": [
    "# 3.3 Multi-dimensional Array"
   ]
  },
  {
   "cell_type": "markdown",
   "metadata": {},
   "source": [
    "# 3.3.1 Multi-dimensional Array"
   ]
  },
  {
   "cell_type": "code",
   "execution_count": null,
   "metadata": {
    "collapsed": true
   },
   "outputs": [],
   "source": [
    "# 1D Array\n",
    "A = np.array([1, 2, 3, 4])\n",
    "print(\"A : \", A)\n",
    "print(\"np.ndim(A) : \", np.ndim(A))    # Dimension\n",
    "print(\"A.shape : \", A.shape)    # Shape (1차원 배열이라도 다차원 배열일 때와 통일된 형태로 결과를 반환하기 위해 튜플을 반환)\n",
    "print(\"A.shape[0] : \", A.shape[0])"
   ]
  },
  {
   "cell_type": "code",
   "execution_count": null,
   "metadata": {
    "collapsed": true
   },
   "outputs": [],
   "source": [
    "# 2D Array (Matrix)\n",
    "B = np.array([[1, 2], [3, 4], [5, 6]])\n",
    "print(\"B : \")\n",
    "print(B)\n",
    "print(\"np.ndim(B) : \", np.ndim(B))\n",
    "print(\"B.shape : \", B.shape)"
   ]
  },
  {
   "cell_type": "markdown",
   "metadata": {},
   "source": [
    "# 3.2.2 Matrix Multiplication "
   ]
  },
  {
   "cell_type": "code",
   "execution_count": null,
   "metadata": {
    "collapsed": true
   },
   "outputs": [],
   "source": [
    "A = np.array([[1, 2], [3, 4]])\n",
    "B = np.array([[5, 6], [7, 8]])\n",
    "print(\"A.shape x B.shape : \", A.shape, \" x \", B.shape)\n",
    "print(\"np.dot(A, B) : \")\n",
    "print(np.dot(A, B))"
   ]
  },
  {
   "cell_type": "code",
   "execution_count": null,
   "metadata": {
    "collapsed": true
   },
   "outputs": [],
   "source": [
    "A = np.array([[1, 2], [3, 4], [5, 6]])\n",
    "B = np.array([[1, 2, 3, 4], [5, 6, 7, 8]])\n",
    "C = np.dot(A, B)\n",
    "print(\"A.shape x B.shape : \", A.shape, \" x \", B.shape, \" → C.shpae : \", C.shape)\n",
    "print(\"C = np.dot(A, B) : \")\n",
    "print(C)"
   ]
  },
  {
   "cell_type": "markdown",
   "metadata": {},
   "source": [
    "# 3.3.3 Matrix Multiplication of Neural Network"
   ]
  },
  {
   "cell_type": "code",
   "execution_count": null,
   "metadata": {
    "collapsed": true
   },
   "outputs": [],
   "source": [
    "X = np.array([1, 2])    # Input\n",
    "W = np.array([[1, 3, 5], [2, 4, 6]])    # Weight\n",
    "Y = np.dot(X, W)    # Output\n",
    "print(\"X.shape x W.shape : \", X.shape, \" x \", W.shape, \" → Y.shpae : \", Y.shape)\n",
    "print(\"Y = np.dot(X, W) : \")\n",
    "print(Y)"
   ]
  }
 ],
 "metadata": {
  "kernelspec": {
   "display_name": "Python 3",
   "language": "python",
   "name": "python3"
  },
  "language_info": {
   "codemirror_mode": {
    "name": "ipython",
    "version": 3
   },
   "file_extension": ".py",
   "mimetype": "text/x-python",
   "name": "python",
   "nbconvert_exporter": "python",
   "pygments_lexer": "ipython3",
   "version": "3.6.1"
  }
 },
 "nbformat": 4,
 "nbformat_minor": 2
}
